{
 "cells": [
  {
   "cell_type": "code",
   "execution_count": 1,
   "metadata": {},
   "outputs": [],
   "source": [
    "from fbx import *\n",
    "import sys\n",
    "\n",
    "def InitializeSdkObjects():\n",
    "    # The first thing to do is to create the FBX SDK manager which is the \n",
    "    # object allocator for almost all the classes in the SDK.\n",
    "    lSdkManager = FbxManager.Create()\n",
    "    if not lSdkManager:\n",
    "        sys.exit(0)\n",
    "        \n",
    "    # Create an IOSettings object\n",
    "    ios = FbxIOSettings.Create(lSdkManager, IOSROOT)\n",
    "    lSdkManager.SetIOSettings(ios)\n",
    "    \n",
    "    # Create the entity that will hold the scene.\n",
    "    lScene = FbxScene.Create(lSdkManager, \"\")\n",
    "    \n",
    "    return (lSdkManager, lScene)\n",
    "\n",
    "def SaveScene(pSdkManager, pScene, pFilename, pFileFormat = -1, pEmbedMedia = False):\n",
    "    lExporter = FbxExporter.Create(pSdkManager, \"\")\n",
    "    if pFileFormat < 0 or pFileFormat >= pSdkManager.GetIOPluginRegistry().GetWriterFormatCount():\n",
    "        pFileFormat = pSdkManager.GetIOPluginRegistry().GetNativeWriterFormat()\n",
    "        if not pEmbedMedia:\n",
    "            lFormatCount = pSdkManager.GetIOPluginRegistry().GetWriterFormatCount()\n",
    "            for lFormatIndex in range(lFormatCount):\n",
    "                if pSdkManager.GetIOPluginRegistry().WriterIsFBX(lFormatIndex):\n",
    "                    lDesc = pSdkManager.GetIOPluginRegistry().GetWriterFormatDescription(lFormatIndex)\n",
    "                    if \"ascii\" in lDesc:\n",
    "                        pFileFormat = lFormatIndex\n",
    "                        break\n",
    "    \n",
    "    if not pSdkManager.GetIOSettings():\n",
    "        ios = FbxIOSettings.Create(pSdkManager, IOSROOT)\n",
    "        pSdkManager.SetIOSettings(ios)\n",
    "    \n",
    "    pSdkManager.GetIOSettings().SetBoolProp(EXP_FBX_MATERIAL, True)\n",
    "    pSdkManager.GetIOSettings().SetBoolProp(EXP_FBX_TEXTURE, True)\n",
    "    pSdkManager.GetIOSettings().SetBoolProp(EXP_FBX_EMBEDDED, pEmbedMedia)\n",
    "    pSdkManager.GetIOSettings().SetBoolProp(EXP_FBX_SHAPE, True)\n",
    "    pSdkManager.GetIOSettings().SetBoolProp(EXP_FBX_GOBO, True)\n",
    "    pSdkManager.GetIOSettings().SetBoolProp(EXP_FBX_ANIMATION, True)\n",
    "    pSdkManager.GetIOSettings().SetBoolProp(EXP_FBX_GLOBAL_SETTINGS, True)\n",
    "\n",
    "    result = lExporter.Initialize(pFilename, pFileFormat, pSdkManager.GetIOSettings())\n",
    "    if result == True:\n",
    "        result = lExporter.Export(pScene)\n",
    "\n",
    "    lExporter.Destroy()\n",
    "    return result\n",
    "    \n",
    "def LoadScene(pSdkManager, pScene, pFileName):\n",
    "    lImporter = FbxImporter.Create(pSdkManager, \"\")    \n",
    "    result = lImporter.Initialize(pFileName, -1, pSdkManager.GetIOSettings())\n",
    "    if not result:\n",
    "        return False\n",
    "    \n",
    "    if lImporter.IsFBX():\n",
    "        pSdkManager.GetIOSettings().SetBoolProp(EXP_FBX_MATERIAL, True)\n",
    "        pSdkManager.GetIOSettings().SetBoolProp(EXP_FBX_TEXTURE, True)\n",
    "        pSdkManager.GetIOSettings().SetBoolProp(EXP_FBX_EMBEDDED, True)\n",
    "        pSdkManager.GetIOSettings().SetBoolProp(EXP_FBX_SHAPE, True)\n",
    "        pSdkManager.GetIOSettings().SetBoolProp(EXP_FBX_GOBO, True)\n",
    "        pSdkManager.GetIOSettings().SetBoolProp(EXP_FBX_ANIMATION, True)\n",
    "        pSdkManager.GetIOSettings().SetBoolProp(EXP_FBX_GLOBAL_SETTINGS, True)\n",
    "    \n",
    "    result = lImporter.Import(pScene)\n",
    "    lImporter.Destroy()\n",
    "    return result\n"
   ]
  },
  {
   "cell_type": "code",
   "execution_count": 2,
   "metadata": {},
   "outputs": [],
   "source": [
    "smplxFbxSdkManager, smplxFbxScene = InitializeSdkObjects()\n",
    "# Load the scene.\n",
    "smplx_model_fbx_path = \"/home/yuhaojiang/torch_docker/SMPLer-X/fbx_convertor/smplx-neutral.fbx\"\n",
    "smplxFbxResult = LoadScene(\n",
    "    smplxFbxSdkManager, smplxFbxScene, smplx_model_fbx_path\n",
    ")"
   ]
  },
  {
   "cell_type": "code",
   "execution_count": null,
   "metadata": {},
   "outputs": [],
   "source": [
    "_ = SaveScene(smplxFbxSdkManager, smplxFbxScene, \"smplx_model_2.fbx\", 2)"
   ]
  },
  {
   "cell_type": "code",
   "execution_count": 4,
   "metadata": {},
   "outputs": [
    {
     "name": "stdout",
     "output_type": "stream",
     "text": [
      "Format  0 :  FBX binary (*.fbx)\n",
      "Format  1 :  FBX ascii (*.fbx)\n",
      "Format  2 :  FBX encrypted (*.fbx)\n",
      "Format  3 :  FBX 6.0 binary (*.fbx)\n",
      "Format  4 :  FBX 6.0 ascii (*.fbx)\n",
      "Format  5 :  FBX 6.0 encrypted (*.fbx)\n",
      "Format  6 FBX 6.0 encrypted (*.fbx) : not writer\n",
      "Format  7 FBX 6.0 encrypted (*.fbx) : not writer\n",
      "Format  8 FBX 6.0 encrypted (*.fbx) : not writer\n",
      "Format  9 FBX 6.0 encrypted (*.fbx) : not writer\n",
      "Format  10 FBX 6.0 encrypted (*.fbx) : not writer\n",
      "Format  11 FBX 6.0 encrypted (*.fbx) : not writer\n",
      "Format  12 FBX 6.0 encrypted (*.fbx) : not writer\n",
      "Format  13 FBX 6.0 encrypted (*.fbx) : not writer\n",
      "Format  14 FBX 6.0 encrypted (*.fbx) : not writer\n",
      "Format  15 FBX 6.0 encrypted (*.fbx) : not writer\n",
      "Format  16 FBX 6.0 encrypted (*.fbx) : not writer\n"
     ]
    }
   ],
   "source": [
    "lFormatCount = smplxFbxSdkManager.GetIOPluginRegistry().GetWriterFormatCount()\n",
    "for lFormatIndex in range(lFormatCount):\n",
    "    if smplxFbxSdkManager.GetIOPluginRegistry().WriterIsFBX(lFormatIndex):\n",
    "        lDesc = smplxFbxSdkManager.GetIOPluginRegistry().GetWriterFormatDescription(lFormatIndex)\n",
    "        print(\"Format \", lFormatIndex, \": \", lDesc)\n",
    "    else:\n",
    "        print(\"Format \", lFormatIndex, lDesc, \": not writer\")"
   ]
  }
 ],
 "metadata": {
  "kernelspec": {
   "display_name": "smplerx",
   "language": "python",
   "name": "python3"
  },
  "language_info": {
   "codemirror_mode": {
    "name": "ipython",
    "version": 3
   },
   "file_extension": ".py",
   "mimetype": "text/x-python",
   "name": "python",
   "nbconvert_exporter": "python",
   "pygments_lexer": "ipython3",
   "version": "3.8.18"
  }
 },
 "nbformat": 4,
 "nbformat_minor": 2
}
