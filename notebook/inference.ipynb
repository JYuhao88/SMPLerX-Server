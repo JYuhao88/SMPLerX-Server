{
 "cells": [
  {
   "cell_type": "code",
   "execution_count": 7,
   "metadata": {},
   "outputs": [
    {
     "name": "stdout",
     "output_type": "stream",
     "text": [
      "/home/yuhaojiang/torch_docker/SMPLer-X\n"
     ]
    }
   ],
   "source": [
    "%cd /home/yuhaojiang/torch_docker/SMPLer-X\n",
    "\n",
    "import os\n",
    "import sys\n",
    "import os.path as osp\n",
    "import argparse\n",
    "import numpy as np\n",
    "import torchvision.transforms as transforms\n",
    "import torch.backends.cudnn as cudnn\n",
    "import torch\n",
    "\n",
    "from main.config import cfg\n",
    "import cv2\n",
    "from tqdm import tqdm\n",
    "import json\n",
    "from typing import Literal, Union\n",
    "from mmdet.apis import init_detector, inference_detector\n",
    "from common.utils.inference_utils import process_mmdet_results, non_max_suppression"
   ]
  },
  {
   "cell_type": "code",
   "execution_count": 8,
   "metadata": {},
   "outputs": [
    {
     "name": "stdout",
     "output_type": "stream",
     "text": [
      "WARNING: You are using a SMPL model, with only 10 shape coefficients.\n",
      "WARNING: You are using a SMPL model, with only 10 shape coefficients.\n",
      "WARNING: You are using a SMPL model, with only 10 shape coefficients.\n",
      "WARNING: You are using a SMPL model, with only 10 shape coefficients.\n",
      "WARNING: You are using a SMPL model, with only 10 shape coefficients.\n",
      "WARNING: You are using a SMPL model, with only 10 shape coefficients.\n"
     ]
    },
    {
     "ename": "TypeError",
     "evalue": "expected str, bytes or os.PathLike object, not NoneType",
     "output_type": "error",
     "traceback": [
      "\u001b[0;31m---------------------------------------------------------------------------\u001b[0m",
      "\u001b[0;31mTypeError\u001b[0m                                 Traceback (most recent call last)",
      "\u001b[1;32m/home/yuhaojiang/torch_docker/SMPLer-X/notebook/inference.ipynb 单元格 2\u001b[0m line \u001b[0;36m1\n\u001b[1;32m     <a href='vscode-notebook-cell://attached-container%2B7b22636f6e7461696e65724e616d65223a222f797568616f5f6d6f74696f6e227d@ssh-remote%2Bnlp-dev07/home/yuhaojiang/torch_docker/SMPLer-X/notebook/inference.ipynb#W1sdnNjb2RlLXJlbW90ZQ%3D%3D?line=9'>10</a>\u001b[0m \u001b[39mfrom\u001b[39;00m \u001b[39mcommon\u001b[39;00m\u001b[39m.\u001b[39;00m\u001b[39mutils\u001b[39;00m\u001b[39m.\u001b[39;00m\u001b[39mvis\u001b[39;00m \u001b[39mimport\u001b[39;00m render_mesh, save_obj\n\u001b[1;32m     <a href='vscode-notebook-cell://attached-container%2B7b22636f6e7461696e65724e616d65223a222f797568616f5f6d6f74696f6e227d@ssh-remote%2Bnlp-dev07/home/yuhaojiang/torch_docker/SMPLer-X/notebook/inference.ipynb#W1sdnNjb2RlLXJlbW90ZQ%3D%3D?line=10'>11</a>\u001b[0m \u001b[39mfrom\u001b[39;00m \u001b[39mcommon\u001b[39;00m\u001b[39m.\u001b[39;00m\u001b[39mutils\u001b[39;00m\u001b[39m.\u001b[39;00m\u001b[39mhuman_models\u001b[39;00m \u001b[39mimport\u001b[39;00m smpl_x\n\u001b[0;32m---> <a href='vscode-notebook-cell://attached-container%2B7b22636f6e7461696e65724e616d65223a222f797568616f5f6d6f74696f6e227d@ssh-remote%2Bnlp-dev07/home/yuhaojiang/torch_docker/SMPLer-X/notebook/inference.ipynb#W1sdnNjb2RlLXJlbW90ZQ%3D%3D?line=12'>13</a>\u001b[0m demoer \u001b[39m=\u001b[39m Demoer()\n\u001b[1;32m     <a href='vscode-notebook-cell://attached-container%2B7b22636f6e7461696e65724e616d65223a222f797568616f5f6d6f74696f6e227d@ssh-remote%2Bnlp-dev07/home/yuhaojiang/torch_docker/SMPLer-X/notebook/inference.ipynb#W1sdnNjb2RlLXJlbW90ZQ%3D%3D?line=13'>14</a>\u001b[0m demoer\u001b[39m.\u001b[39m_make_model()\n\u001b[1;32m     <a href='vscode-notebook-cell://attached-container%2B7b22636f6e7461696e65724e616d65223a222f797568616f5f6d6f74696f6e227d@ssh-remote%2Bnlp-dev07/home/yuhaojiang/torch_docker/SMPLer-X/notebook/inference.ipynb#W1sdnNjb2RlLXJlbW90ZQ%3D%3D?line=14'>15</a>\u001b[0m demoer\u001b[39m.\u001b[39mmodel\u001b[39m.\u001b[39meval()\n",
      "File \u001b[0;32m/home/yuhaojiang/torch_docker/SMPLer-X/common/base.py:318\u001b[0m, in \u001b[0;36mDemoer.__init__\u001b[0;34m(self, test_epoch)\u001b[0m\n\u001b[1;32m    316\u001b[0m \u001b[39mif\u001b[39;00m test_epoch \u001b[39mis\u001b[39;00m \u001b[39mnot\u001b[39;00m \u001b[39mNone\u001b[39;00m:\n\u001b[1;32m    317\u001b[0m     \u001b[39mself\u001b[39m\u001b[39m.\u001b[39mtest_epoch \u001b[39m=\u001b[39m \u001b[39mint\u001b[39m(test_epoch)\n\u001b[0;32m--> 318\u001b[0m \u001b[39msuper\u001b[39;49m(Demoer, \u001b[39mself\u001b[39;49m)\u001b[39m.\u001b[39;49m\u001b[39m__init__\u001b[39;49m(log_name\u001b[39m=\u001b[39;49m\u001b[39m'\u001b[39;49m\u001b[39mtest_logs.txt\u001b[39;49m\u001b[39m'\u001b[39;49m)\n",
      "File \u001b[0;32m/home/yuhaojiang/torch_docker/SMPLer-X/common/base.py:44\u001b[0m, in \u001b[0;36mBase.__init__\u001b[0;34m(self, log_name)\u001b[0m\n\u001b[1;32m     41\u001b[0m \u001b[39mself\u001b[39m\u001b[39m.\u001b[39mread_timer \u001b[39m=\u001b[39m Timer()\n\u001b[1;32m     43\u001b[0m \u001b[39m# logger\u001b[39;00m\n\u001b[0;32m---> 44\u001b[0m \u001b[39mself\u001b[39m\u001b[39m.\u001b[39mlogger \u001b[39m=\u001b[39m colorlogger(cfg\u001b[39m.\u001b[39;49mlog_dir, log_name\u001b[39m=\u001b[39;49mlog_name)\n",
      "File \u001b[0;32m/home/yuhaojiang/torch_docker/SMPLer-X/common/logger.py:21\u001b[0m, in \u001b[0;36mcolorlogger.__init__\u001b[0;34m(self, log_dir, log_name)\u001b[0m\n\u001b[1;32m     19\u001b[0m \u001b[39mself\u001b[39m\u001b[39m.\u001b[39m_logger \u001b[39m=\u001b[39m logging\u001b[39m.\u001b[39mgetLogger(log_name)\n\u001b[1;32m     20\u001b[0m \u001b[39mself\u001b[39m\u001b[39m.\u001b[39m_logger\u001b[39m.\u001b[39msetLevel(logging\u001b[39m.\u001b[39mINFO)\n\u001b[0;32m---> 21\u001b[0m log_file \u001b[39m=\u001b[39m os\u001b[39m.\u001b[39;49mpath\u001b[39m.\u001b[39;49mjoin(log_dir, log_name)\n\u001b[1;32m     22\u001b[0m \u001b[39mif\u001b[39;00m \u001b[39mnot\u001b[39;00m os\u001b[39m.\u001b[39mpath\u001b[39m.\u001b[39mexists(log_dir):\n\u001b[1;32m     23\u001b[0m     os\u001b[39m.\u001b[39mmakedirs(log_dir)\n",
      "File \u001b[0;32m~/miniconda3/envs/smplerx/lib/python3.8/posixpath.py:76\u001b[0m, in \u001b[0;36mjoin\u001b[0;34m(a, *p)\u001b[0m\n\u001b[1;32m     71\u001b[0m \u001b[39mdef\u001b[39;00m \u001b[39mjoin\u001b[39m(a, \u001b[39m*\u001b[39mp):\n\u001b[1;32m     72\u001b[0m \u001b[39m    \u001b[39m\u001b[39m\"\"\"Join two or more pathname components, inserting '/' as needed.\u001b[39;00m\n\u001b[1;32m     73\u001b[0m \u001b[39m    If any component is an absolute path, all previous path components\u001b[39;00m\n\u001b[1;32m     74\u001b[0m \u001b[39m    will be discarded.  An empty last part will result in a path that\u001b[39;00m\n\u001b[1;32m     75\u001b[0m \u001b[39m    ends with a separator.\"\"\"\u001b[39;00m\n\u001b[0;32m---> 76\u001b[0m     a \u001b[39m=\u001b[39m os\u001b[39m.\u001b[39;49mfspath(a)\n\u001b[1;32m     77\u001b[0m     sep \u001b[39m=\u001b[39m _get_sep(a)\n\u001b[1;32m     78\u001b[0m     path \u001b[39m=\u001b[39m a\n",
      "\u001b[0;31mTypeError\u001b[0m: expected str, bytes or os.PathLike object, not NoneType"
     ]
    }
   ],
   "source": [
    "config_path = \"main/config/config_smpler_x_h32.py\"\n",
    "cfg.get_config_fromfile(config_path)\n",
    "\n",
    "from common.base import Demoer\n",
    "from common.utils.preprocessing import (\n",
    "    load_img,\n",
    "    process_bbox,\n",
    "    generate_patch_image,\n",
    ")\n",
    "from common.utils.vis import render_mesh, save_obj\n",
    "from common.utils.human_models import smpl_x\n",
    "\n",
    "demoer = Demoer()\n",
    "demoer._make_model()\n",
    "demoer.model.eval()"
   ]
  },
  {
   "cell_type": "code",
   "execution_count": null,
   "metadata": {},
   "outputs": [],
   "source": [
    "### mmdet init\n",
    "checkpoint_file = 'pretrained_models/mmdet/faster_rcnn_r50_fpn_1x_coco_20200130-047c8118.pth'\n",
    "config_file= 'pretrained_models/mmdet/mmdet_faster_rcnn_r50_fpn_coco.py'\n",
    "model = init_detector(config_file, checkpoint_file, device='cuda:0')  # or device='cuda:0'"
   ]
  },
  {
   "cell_type": "code",
   "execution_count": null,
   "metadata": {},
   "outputs": [],
   "source": [
    "frame = 0\n",
    "img_path = \"demo/images/close-up\"\n",
    "img_path = os.path.join(img_path, f'{int(frame):06d}.jpg')\n",
    "\n",
    "# prepare input image\n",
    "transform = transforms.ToTensor()\n",
    "original_img = load_img(img_path)\n",
    "vis_img = original_img.copy()\n",
    "original_img_height, original_img_width = original_img.shape[:2]"
   ]
  },
  {
   "cell_type": "code",
   "execution_count": null,
   "metadata": {},
   "outputs": [],
   "source": [
    "## mmdet inference\n",
    "mmdet_results = inference_detector(model, img_path)\n",
    "mmdet_box = process_mmdet_results(mmdet_results, cat_id=0, multi_person=True)"
   ]
  },
  {
   "cell_type": "code",
   "execution_count": null,
   "metadata": {},
   "outputs": [],
   "source": [
    "# show image with cv2\n",
    "for bbox in mmdet_box:\n",
    "    cv2.rectangle(vis_img, (int(bbox[0]), int(bbox[1])), (int(bbox[2]), int(bbox[3])), (0, 255, 0), 2)"
   ]
  }
 ],
 "metadata": {
  "kernelspec": {
   "display_name": "smplerx",
   "language": "python",
   "name": "python3"
  },
  "language_info": {
   "codemirror_mode": {
    "name": "ipython",
    "version": 3
   },
   "file_extension": ".py",
   "mimetype": "text/x-python",
   "name": "python",
   "nbconvert_exporter": "python",
   "pygments_lexer": "ipython3",
   "version": "3.8.18"
  }
 },
 "nbformat": 4,
 "nbformat_minor": 2
}
