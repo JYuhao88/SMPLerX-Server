{
 "cells": [
  {
   "cell_type": "code",
   "execution_count": 10,
   "metadata": {},
   "outputs": [
    {
     "name": "stderr",
     "output_type": "stream",
     "text": [
      "/root/miniconda3/envs/smplerx/lib/python3.8/site-packages/tqdm/auto.py:21: TqdmWarning: IProgress not found. Please update jupyter and ipywidgets. See https://ipywidgets.readthedocs.io/en/stable/user_install.html\n",
      "  from .autonotebook import tqdm as notebook_tqdm\n"
     ]
    }
   ],
   "source": [
    "from pytorch3d.transforms import euler_angles_to_matrix, matrix_to_quaternion, matrix_to_quaternion, matrix_to_euler_angles\n",
    "import torch"
   ]
  },
  {
   "cell_type": "code",
   "execution_count": 11,
   "metadata": {},
   "outputs": [
    {
     "name": "stdout",
     "output_type": "stream",
     "text": [
      "ZXY    x: -0.4731, y: 0.5082, z: 0.5533, w: -0.4602\n",
      "ZXY    x: 0.3688, y: 0.5859, z: 0.6298, w: 0.3523\n",
      "ZXY    x: -0.5213, y: 0.6619, z: -0.5173, w: 0.1503\n",
      "ZXY    x: 0.0000, y: 0.7071, z: 0.0000, w: 0.7071\n",
      "ZXY    x: 0.7071, y: 0.0000, z: 0.0000, w: 0.7071\n",
      "ZXY    x: 0.0000, y: 0.0000, z: 0.7071, w: 0.7071\n"
     ]
    }
   ],
   "source": [
    "tests = [torch.tensor([1.0, 190.0, 35.0]), \n",
    "                torch.tensor([263.0, 190.0, -85.0]), \n",
    "                torch.tensor([274.0, -1.0, 8.0]), \n",
    "                torch.tensor([torch.pi / 2, 0.0, 0.0]),\n",
    "                torch.tensor([0.0, torch.pi / 2, 0.0]),\n",
    "                torch.tensor([0.0, 0.0, torch.pi / 2]),]\n",
    "\n",
    "\n",
    "# for euler in tests:\n",
    "#     # euler = torch.tensor([euler[2], euler[1], euler[0]])\n",
    "#     for rot_format in [\"ZXY\"]:\n",
    "#         R = euler_angles_to_matrix(euler, rot_format)\n",
    "#         q = matrix_to_quaternion(R)\n",
    "#         print(rot_format, \"   x: {:.4f}, y: {:.4f}, z: {:.4f}, w: {:.4f}\".format( q[1], q[2], q[3], q[0]))"
   ]
  },
  {
   "cell_type": "code",
   "execution_count": 12,
   "metadata": {},
   "outputs": [
    {
     "name": "stdout",
     "output_type": "stream",
     "text": [
      "unityeuler2quaternion    x: -0.5082, y: 0.4731, z: -0.6971, w: -0.1790\n",
      "norm:  tensor(1.0000)\n",
      "unityeuler2quaternion    x: 0.5859, y: 0.3688, z: 0.6820, w: -0.2359\n",
      "norm:  tensor(1.0000)\n",
      "unityeuler2quaternion    x: 0.6619, y: -0.5213, z: 0.0734, w: -0.5337\n",
      "norm:  tensor(1.)\n",
      "unityeuler2quaternion    x: 0.7071, y: 0.0000, z: 0.0000, w: 0.7071\n",
      "norm:  tensor(1.0000)\n",
      "unityeuler2quaternion    x: 0.0000, y: 0.7071, z: 0.0000, w: 0.7071\n",
      "norm:  tensor(1.0000)\n",
      "unityeuler2quaternion    x: 0.0000, y: 0.0000, z: 0.7071, w: 0.7071\n",
      "norm:  tensor(1.0000)\n"
     ]
    }
   ],
   "source": [
    "class sincos:\n",
    "    def __init__(self, angle: torch.Tensor) -> None:\n",
    "        self.s = torch.sin(angle)\n",
    "        self.c = torch.cos(angle)\n",
    "\n",
    "def unity_euler2quaternion(euler):\n",
    "    euler = euler * 0.5\n",
    "    xa, ya, za = sincos(euler[..., 0]), sincos(euler[..., 1]), sincos(euler[..., 2])\n",
    "    \n",
    "    x = xa.s * ya.c * za.c + ya.s * za.s * xa.c\n",
    "    y = ya.s * xa.c * za.c - xa.s * za.s * ya.c\n",
    "    z = za.s * xa.c * ya.c - xa.s * ya.s * za.c\n",
    "    w = xa.c * ya.c * za.c + ya.s * za.s * xa.s\n",
    "    return torch.stack([x, y, z, w], dim=-1)\n",
    "\n",
    "for test in tests:\n",
    "    q = unity_euler2quaternion(test)\n",
    "    print(\"unityeuler2quaternion\", \"   x: {:.4f}, y: {:.4f}, z: {:.4f}, w: {:.4f}\".format(q[0], q[1], q[2], q[3]))\n",
    "    print(\"norm: \", torch.norm(q))"
   ]
  },
  {
   "cell_type": "code",
   "execution_count": 33,
   "metadata": {},
   "outputs": [],
   "source": [
    "from sympy import Quaternion, pi, cos, sin, Matrix, solve\n",
    "from sympy import symbols, I\n",
    "import numpy as np\n",
    "\n",
    "rot_x = symbols('x')\n",
    "rot_y = symbols('y')\n",
    "rot_z = symbols('z')\n",
    "\n",
    "q_rot_x = Quaternion(cos(rot_x / 2), sin(rot_x / 2), 0, 0)\n",
    "q_rot_y = Quaternion(cos(rot_y / 2), 0, sin(rot_y / 2), 0)\n",
    "q_rot_z = Quaternion(cos(rot_z / 2), 0, 0, sin(rot_z / 2))"
   ]
  },
  {
   "cell_type": "code",
   "execution_count": 34,
   "metadata": {},
   "outputs": [],
   "source": [
    "q = q_rot_z * q_rot_x * q_rot_y\n",
    "equations = [q - Quaternion(symbols('qw'), symbols('qx'), symbols('qy'), symbols('qz'))]\n",
    "\n",
    "solutions = solve(equations, [rot_x, rot_y, rot_z], dict=True)"
   ]
  },
  {
   "cell_type": "code",
   "execution_count": 37,
   "metadata": {},
   "outputs": [
    {
     "data": {
      "text/plain": [
       "[]"
      ]
     },
     "execution_count": 37,
     "metadata": {},
     "output_type": "execute_result"
    }
   ],
   "source": [
    "solutions"
   ]
  },
  {
   "cell_type": "code",
   "execution_count": 39,
   "metadata": {},
   "outputs": [],
   "source": [
    "alpha, beta, gamma = symbols('alpha beta gamma')\n",
    "\n",
    "rot_x = Matrix([[1, 0, 0], [0, cos(alpha), -sin(alpha)], [0, sin(alpha), cos(alpha)]])\n",
    "rot_y = Matrix([[cos(beta), 0, sin(beta)], [0, 1, 0], [-sin(beta), 0, cos(beta)]])\n",
    "rot_z = Matrix([[cos(gamma), -sin(gamma), 0], [sin(gamma), cos(gamma), 0], [0, 0, 1]])\n"
   ]
  },
  {
   "cell_type": "code",
   "execution_count": 45,
   "metadata": {},
   "outputs": [
    {
     "data": {
      "text/latex": [
       "$\\displaystyle \\left[\\begin{matrix}\\cos{\\left(\\beta \\right)} \\cos{\\left(\\gamma \\right)} & \\sin{\\left(\\alpha \\right)} \\sin{\\left(\\beta \\right)} - \\sin{\\left(\\gamma \\right)} \\cos{\\left(\\alpha \\right)} \\cos{\\left(\\beta \\right)} & \\sin{\\left(\\alpha \\right)} \\sin{\\left(\\gamma \\right)} \\cos{\\left(\\beta \\right)} + \\sin{\\left(\\beta \\right)} \\cos{\\left(\\alpha \\right)}\\\\\\sin{\\left(\\gamma \\right)} & \\cos{\\left(\\alpha \\right)} \\cos{\\left(\\gamma \\right)} & - \\sin{\\left(\\alpha \\right)} \\cos{\\left(\\gamma \\right)}\\\\- \\sin{\\left(\\beta \\right)} \\cos{\\left(\\gamma \\right)} & \\sin{\\left(\\alpha \\right)} \\cos{\\left(\\beta \\right)} + \\sin{\\left(\\beta \\right)} \\sin{\\left(\\gamma \\right)} \\cos{\\left(\\alpha \\right)} & - \\sin{\\left(\\alpha \\right)} \\sin{\\left(\\beta \\right)} \\sin{\\left(\\gamma \\right)} + \\cos{\\left(\\alpha \\right)} \\cos{\\left(\\beta \\right)}\\end{matrix}\\right]$"
      ],
      "text/plain": [
       "Matrix([\n",
       "[ cos(beta)*cos(gamma), sin(alpha)*sin(beta) - sin(gamma)*cos(alpha)*cos(beta),  sin(alpha)*sin(gamma)*cos(beta) + sin(beta)*cos(alpha)],\n",
       "[           sin(gamma),                                  cos(alpha)*cos(gamma),                                  -sin(alpha)*cos(gamma)],\n",
       "[-sin(beta)*cos(gamma), sin(alpha)*cos(beta) + sin(beta)*sin(gamma)*cos(alpha), -sin(alpha)*sin(beta)*sin(gamma) + cos(alpha)*cos(beta)]])"
      ]
     },
     "execution_count": 45,
     "metadata": {},
     "output_type": "execute_result"
    }
   ],
   "source": [
    "rot_y * rot_z * rot_x # euclideanspace"
   ]
  },
  {
   "cell_type": "code",
   "execution_count": 46,
   "metadata": {},
   "outputs": [
    {
     "data": {
      "text/latex": [
       "$\\displaystyle \\left[\\begin{matrix}- \\sin{\\left(\\alpha \\right)} \\sin{\\left(\\beta \\right)} \\sin{\\left(\\gamma \\right)} + \\cos{\\left(\\beta \\right)} \\cos{\\left(\\gamma \\right)} & - \\sin{\\left(\\gamma \\right)} \\cos{\\left(\\alpha \\right)} & \\sin{\\left(\\alpha \\right)} \\sin{\\left(\\gamma \\right)} \\cos{\\left(\\beta \\right)} + \\sin{\\left(\\beta \\right)} \\cos{\\left(\\gamma \\right)}\\\\\\sin{\\left(\\alpha \\right)} \\sin{\\left(\\beta \\right)} \\cos{\\left(\\gamma \\right)} + \\sin{\\left(\\gamma \\right)} \\cos{\\left(\\beta \\right)} & \\cos{\\left(\\alpha \\right)} \\cos{\\left(\\gamma \\right)} & - \\sin{\\left(\\alpha \\right)} \\cos{\\left(\\beta \\right)} \\cos{\\left(\\gamma \\right)} + \\sin{\\left(\\beta \\right)} \\sin{\\left(\\gamma \\right)}\\\\- \\sin{\\left(\\beta \\right)} \\cos{\\left(\\alpha \\right)} & \\sin{\\left(\\alpha \\right)} & \\cos{\\left(\\alpha \\right)} \\cos{\\left(\\beta \\right)}\\end{matrix}\\right]$"
      ],
      "text/plain": [
       "Matrix([\n",
       "[-sin(alpha)*sin(beta)*sin(gamma) + cos(beta)*cos(gamma), -sin(gamma)*cos(alpha),  sin(alpha)*sin(gamma)*cos(beta) + sin(beta)*cos(gamma)],\n",
       "[ sin(alpha)*sin(beta)*cos(gamma) + sin(gamma)*cos(beta),  cos(alpha)*cos(gamma), -sin(alpha)*cos(beta)*cos(gamma) + sin(beta)*sin(gamma)],\n",
       "[                                  -sin(beta)*cos(alpha),             sin(alpha),                                    cos(alpha)*cos(beta)]])"
      ]
     },
     "execution_count": 46,
     "metadata": {},
     "output_type": "execute_result"
    }
   ],
   "source": [
    "rot_z * rot_x * rot_y # R_unity"
   ]
  }
 ],
 "metadata": {
  "kernelspec": {
   "display_name": "smplerx",
   "language": "python",
   "name": "python3"
  },
  "language_info": {
   "codemirror_mode": {
    "name": "ipython",
    "version": 3
   },
   "file_extension": ".py",
   "mimetype": "text/x-python",
   "name": "python",
   "nbconvert_exporter": "python",
   "pygments_lexer": "ipython3",
   "version": "3.8.18"
  }
 },
 "nbformat": 4,
 "nbformat_minor": 2
}
